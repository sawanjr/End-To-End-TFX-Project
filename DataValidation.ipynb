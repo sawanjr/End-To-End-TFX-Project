{
 "cells": [
  {
   "cell_type": "markdown",
   "id": "e9c275f7-c0dc-49ef-9944-817e6f15e447",
   "metadata": {},
   "source": [
    "# DATA VALIDATION"
   ]
  },
  {
   "cell_type": "code",
   "execution_count": 60,
   "id": "e903bff9-a173-42fb-9046-db7080b35b5d",
   "metadata": {},
   "outputs": [],
   "source": [
    "# !pip install apache-beam[interactive]"
   ]
  },
  {
   "cell_type": "code",
   "execution_count": 1,
   "id": "509f12bb-b708-4544-9b24-40c49bb7f3a2",
   "metadata": {},
   "outputs": [],
   "source": [
    "import os\n",
    "import tensorflow"
   ]
  },
  {
   "cell_type": "markdown",
   "id": "b3f9807e-751d-42f2-afc4-8d70ce48d67b",
   "metadata": {},
   "source": [
    "Internally, TFDV uses `Apache Beam's` data-parallel processing framework to scale the computation of statistics over large datasets.\n",
    "\n",
    "When we installed the tfx package introduced in Chapter 2, TFDV was already\n",
    "installed as a dependency. If we would like to use TFDV as a standalone package, we\n",
    "can install it with this command:\n",
    "    `$ pip install tensorflow-data-validation`"
   ]
  },
  {
   "cell_type": "markdown",
   "id": "28281512-80ae-45b9-a54d-1eb35cfe2e81",
   "metadata": {},
   "source": [
    "### TensorFlow Data Validation (TFDV) can analyze training and serving data to:\n",
    "\n",
    "-compute `descriptive statistics,`\n",
    "\n",
    "-infer a `schema`,\n",
    "\n",
    "-detect `data anomalies`."
   ]
  },
  {
   "cell_type": "code",
   "execution_count": 3,
   "id": "63eed2eb-1171-4572-afe8-edf6c6e2056a",
   "metadata": {},
   "outputs": [
    {
     "data": {
      "application/javascript": [
       "\n",
       "        if (typeof window.interactive_beam_jquery == 'undefined') {\n",
       "          var jqueryScript = document.createElement('script');\n",
       "          jqueryScript.src = 'https://code.jquery.com/jquery-3.4.1.slim.min.js';\n",
       "          jqueryScript.type = 'text/javascript';\n",
       "          jqueryScript.onload = function() {\n",
       "            var datatableScript = document.createElement('script');\n",
       "            datatableScript.src = 'https://cdn.datatables.net/1.10.20/js/jquery.dataTables.min.js';\n",
       "            datatableScript.type = 'text/javascript';\n",
       "            datatableScript.onload = function() {\n",
       "              window.interactive_beam_jquery = jQuery.noConflict(true);\n",
       "              window.interactive_beam_jquery(document).ready(function($){\n",
       "                \n",
       "              });\n",
       "            }\n",
       "            document.head.appendChild(datatableScript);\n",
       "          };\n",
       "          document.head.appendChild(jqueryScript);\n",
       "        } else {\n",
       "          window.interactive_beam_jquery(document).ready(function($){\n",
       "            \n",
       "          });\n",
       "        }"
      ]
     },
     "metadata": {},
     "output_type": "display_data"
    },
    {
     "name": "stderr",
     "output_type": "stream",
     "text": [
      "WARNING:apache_beam.io.tfrecordio:Couldn't find python-snappy so the implementation of _TFRecordUtil._masked_crc32c is not as fast as it could be.\n"
     ]
    },
    {
     "name": "stdout",
     "output_type": "stream",
     "text": [
      "WARNING:tensorflow:From d:\\Users\\ASUS\\anaconda3\\envs\\environment_tfx\\lib\\site-packages\\tensorflow_data_validation\\utils\\artifacts_io_impl.py:93: tf_record_iterator (from tensorflow.python.lib.io.tf_record) is deprecated and will be removed in a future version.\n",
      "Instructions for updating:\n",
      "Use eager execution and: \n",
      "`tf.data.TFRecordDataset(path)`\n"
     ]
    },
    {
     "name": "stderr",
     "output_type": "stream",
     "text": [
      "WARNING:tensorflow:From d:\\Users\\ASUS\\anaconda3\\envs\\environment_tfx\\lib\\site-packages\\tensorflow_data_validation\\utils\\artifacts_io_impl.py:93: tf_record_iterator (from tensorflow.python.lib.io.tf_record) is deprecated and will be removed in a future version.\n",
      "Instructions for updating:\n",
      "Use eager execution and: \n",
      "`tf.data.TFRecordDataset(path)`\n"
     ]
    }
   ],
   "source": [
    "#TFDV can compute descriptive statistics that provide a quick overview of the data in terms of the features that are present and the shapes of their value distributions\n",
    "import tensorflow_data_validation as tfdv\n",
    "stats = tfdv.generate_statistics_from_csv(data_location='data/housing.csv',delimiter=',')"
   ]
  },
  {
   "cell_type": "code",
   "execution_count": 5,
   "id": "3ae47d7e-f8cc-41cc-baa8-5391def823f1",
   "metadata": {
    "scrolled": true
   },
   "outputs": [],
   "source": [
    "# stats"
   ]
  },
  {
   "cell_type": "markdown",
   "id": "65648ace-abfb-4487-b720-d758f2d801fc",
   "metadata": {},
   "source": [
    "We can generate feature statistics from TFRecord files in a very similar way using the\n",
    "following code:"
   ]
  },
  {
   "cell_type": "code",
   "execution_count": 6,
   "id": "e835ea1b-fb45-4e21-a867-42477a0c7cab",
   "metadata": {},
   "outputs": [
    {
     "data": {
      "text/plain": [
       "'C:\\\\Users\\\\ASUS\\\\building-machine-learning-pipelines\\\\Untitled Folder\\\\..\\\\tfrecord_data'"
      ]
     },
     "execution_count": 6,
     "metadata": {},
     "output_type": "execute_result"
    }
   ],
   "source": [
    "base_dir = os.getcwd()\n",
    "data_dir = os.path.join(os.pardir, \"tfrecord_data\")\n",
    "tf_record_location = os.path.join(base_dir, data_dir)\n",
    "tf_record_location"
   ]
  },
  {
   "cell_type": "code",
   "execution_count": 7,
   "id": "2ff2f4a1-421b-47cd-9e36-82fb64c79fbd",
   "metadata": {},
   "outputs": [
    {
     "data": {
      "text/plain": [
       "['.ipynb_checkpoints', 'housing.tfrecord']"
      ]
     },
     "execution_count": 7,
     "metadata": {},
     "output_type": "execute_result"
    }
   ],
   "source": [
    "os.listdir(tf_record_location)"
   ]
  },
  {
   "cell_type": "code",
   "execution_count": 8,
   "id": "6609b4a4-779d-4b82-8aa0-d27c27657bd7",
   "metadata": {},
   "outputs": [],
   "source": [
    "stats = tfdv.generate_statistics_from_tfrecord(data_location=os.path.join(tf_record_location , \"housing.tfrecord\"))\n",
    "#The returned value is a DatasetFeatureStatisticsList protocol buffer"
   ]
  },
  {
   "cell_type": "code",
   "execution_count": 9,
   "id": "50d4f9e8-41f5-4765-a76b-10df8af17069",
   "metadata": {
    "scrolled": true
   },
   "outputs": [],
   "source": [
    "# stats"
   ]
  },
  {
   "cell_type": "code",
   "execution_count": 10,
   "id": "8e689492-94b3-4456-87af-a3aba8bf7467",
   "metadata": {},
   "outputs": [
    {
     "data": {
      "text/html": [
       "<iframe id='facets-iframe' width=\"100%\" height=\"500px\"></iframe>\n",
       "        <script>\n",
       "        facets_iframe = document.getElementById('facets-iframe');\n",
       "        facets_html = '<script src=\"https://cdnjs.cloudflare.com/ajax/libs/webcomponentsjs/1.3.3/webcomponents-lite.js\"><\\/script><link rel=\"import\" href=\"https://raw.githubusercontent.com/PAIR-code/facets/master/facets-dist/facets-jupyter.html\"><facets-overview proto-input=\"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\"></facets-overview>';\n",
       "        facets_iframe.srcdoc = facets_html;\n",
       "         facets_iframe.id = \"\";\n",
       "         setTimeout(() => {\n",
       "           facets_iframe.setAttribute('height', facets_iframe.contentWindow.document.body.offsetHeight + 'px')\n",
       "         }, 1500)\n",
       "         </script>"
      ],
      "text/plain": [
       "<IPython.core.display.HTML object>"
      ]
     },
     "metadata": {},
     "output_type": "display_data"
    }
   ],
   "source": [
    " tfdv.visualize_statistics(stats)"
   ]
  },
  {
   "cell_type": "markdown",
   "id": "50c350f3-a590-4fce-ae45-b74e1b79f38e",
   "metadata": {},
   "source": [
    "The previous example assumes that the data is stored in a TFRecord file. TFDV also supports CSV input format, with extensibility for other common formats. You can find the available data decoders here. In addition, TFDV provides the tfdv.generate_statistics_from_dataframe utility function for users with in-memory data represented as a pandas DataFrame.\n",
    "\n",
    "In addition to computing a default set of data statistics, TFDV can also compute statistics for semantic domains (e.g., images, text). To enable computation of semantic domain statistics, pass a tfdv.StatsOptions object with enable_semantic_domain_stats set to True to tfdv.generate_statistics_from_tfrecord."
   ]
  },
  {
   "cell_type": "markdown",
   "id": "82b128ba-4ec6-422b-b16e-e411c02810ef",
   "metadata": {},
   "source": [
    "## Inferring a schema over the data\n"
   ]
  },
  {
   "cell_type": "markdown",
   "id": "56f666de-0324-4568-9822-bf30a88ed061",
   "metadata": {},
   "source": [
    "The schema describes the expected properties of the data. Some of these properties are:\n",
    "\n",
    "    -which features are expected to be present their type\n",
    "    \n",
    "    -the number of values for a feature in each example\n",
    "    \n",
    "    -the presence of each feature across all examples\n",
    "    \n",
    "    -the expected domains of features.\n",
    "    \n",
    "In short, the schema describes the expectations for \"correct\" data and can thus be used to detect errors in the data (described below). Moreover, the same schema can be used to set up TensorFlow Transform for data transformations. Note that the schema is expected to be fairly static, e.g., several datasets can conform to the same schema, whereas statistics (described above) can vary per dataset.\n",
    "\n",
    "Since writing a schema can be a tedious task, especially for datasets with lots of features, TFDV provides a method to generate an initial version of the schema based on the descriptive statistics:"
   ]
  },
  {
   "cell_type": "code",
   "execution_count": 12,
   "id": "1301bb79-2d6b-45f2-92c1-f0fc2ad9cad4",
   "metadata": {},
   "outputs": [],
   "source": [
    "schema = tfdv.infer_schema(stats)"
   ]
  },
  {
   "cell_type": "code",
   "execution_count": 9,
   "id": "34c249f8-8733-4f37-bc58-1f2a08a640ba",
   "metadata": {
    "scrolled": true
   },
   "outputs": [
    {
     "data": {
      "text/plain": [
       "feature {\n",
       "  name: \"households\"\n",
       "  type: FLOAT\n",
       "  presence {\n",
       "    min_fraction: 1.0\n",
       "    min_count: 1\n",
       "  }\n",
       "  shape {\n",
       "    dim {\n",
       "      size: 1\n",
       "    }\n",
       "  }\n",
       "}\n",
       "feature {\n",
       "  name: \"housing_median_age\"\n",
       "  type: FLOAT\n",
       "  presence {\n",
       "    min_fraction: 1.0\n",
       "    min_count: 1\n",
       "  }\n",
       "  shape {\n",
       "    dim {\n",
       "      size: 1\n",
       "    }\n",
       "  }\n",
       "}\n",
       "feature {\n",
       "  name: \"latitude\"\n",
       "  type: FLOAT\n",
       "  presence {\n",
       "    min_fraction: 1.0\n",
       "    min_count: 1\n",
       "  }\n",
       "  shape {\n",
       "    dim {\n",
       "      size: 1\n",
       "    }\n",
       "  }\n",
       "}\n",
       "feature {\n",
       "  name: \"longitude\"\n",
       "  type: FLOAT\n",
       "  presence {\n",
       "    min_fraction: 1.0\n",
       "    min_count: 1\n",
       "  }\n",
       "  shape {\n",
       "    dim {\n",
       "      size: 1\n",
       "    }\n",
       "  }\n",
       "}\n",
       "feature {\n",
       "  name: \"median_house_value\"\n",
       "  type: FLOAT\n",
       "  presence {\n",
       "    min_fraction: 1.0\n",
       "    min_count: 1\n",
       "  }\n",
       "  shape {\n",
       "    dim {\n",
       "      size: 1\n",
       "    }\n",
       "  }\n",
       "}\n",
       "feature {\n",
       "  name: \"median_income\"\n",
       "  type: FLOAT\n",
       "  presence {\n",
       "    min_fraction: 1.0\n",
       "    min_count: 1\n",
       "  }\n",
       "  shape {\n",
       "    dim {\n",
       "      size: 1\n",
       "    }\n",
       "  }\n",
       "}\n",
       "feature {\n",
       "  name: \"ocean_proximity\"\n",
       "  type: BYTES\n",
       "  domain: \"ocean_proximity\"\n",
       "  presence {\n",
       "    min_fraction: 1.0\n",
       "    min_count: 1\n",
       "  }\n",
       "  shape {\n",
       "    dim {\n",
       "      size: 1\n",
       "    }\n",
       "  }\n",
       "}\n",
       "feature {\n",
       "  name: \"population\"\n",
       "  type: FLOAT\n",
       "  presence {\n",
       "    min_fraction: 1.0\n",
       "    min_count: 1\n",
       "  }\n",
       "  shape {\n",
       "    dim {\n",
       "      size: 1\n",
       "    }\n",
       "  }\n",
       "}\n",
       "feature {\n",
       "  name: \"total_bedrooms\"\n",
       "  type: FLOAT\n",
       "  presence {\n",
       "    min_fraction: 1.0\n",
       "    min_count: 1\n",
       "  }\n",
       "  shape {\n",
       "    dim {\n",
       "      size: 1\n",
       "    }\n",
       "  }\n",
       "}\n",
       "feature {\n",
       "  name: \"total_rooms\"\n",
       "  type: FLOAT\n",
       "  presence {\n",
       "    min_fraction: 1.0\n",
       "    min_count: 1\n",
       "  }\n",
       "  shape {\n",
       "    dim {\n",
       "      size: 1\n",
       "    }\n",
       "  }\n",
       "}\n",
       "string_domain {\n",
       "  name: \"ocean_proximity\"\n",
       "  value: \"<1H OCEAN\"\n",
       "  value: \"INLAND\"\n",
       "  value: \"ISLAND\"\n",
       "  value: \"NEAR BAY\"\n",
       "  value: \"NEAR OCEAN\"\n",
       "}"
      ]
     },
     "execution_count": 9,
     "metadata": {},
     "output_type": "execute_result"
    }
   ],
   "source": [
    "schema"
   ]
  },
  {
   "cell_type": "markdown",
   "id": "7c19fd27-bef0-4706-ac6e-13b3f5c60463",
   "metadata": {},
   "source": [
    "In general, TFDV uses conservative heuristics to infer stable data properties from the statistics in order to avoid overfitting the schema to the specific dataset. It is strongly advised to review the inferred schema and refine it as needed, to capture any domain knowledge about the data that TFDV's heuristics might have missed.\n",
    "\n",
    "***Tfdv.infer_schema generates a schema protocol defined by TensorFlow***"
   ]
  },
  {
   "cell_type": "code",
   "execution_count": 13,
   "id": "02cd6a30-36e2-4bf6-af69-b89dc1f8b24d",
   "metadata": {},
   "outputs": [
    {
     "data": {
      "text/html": [
       "<div>\n",
       "<style scoped>\n",
       "    .dataframe tbody tr th:only-of-type {\n",
       "        vertical-align: middle;\n",
       "    }\n",
       "\n",
       "    .dataframe tbody tr th {\n",
       "        vertical-align: top;\n",
       "    }\n",
       "\n",
       "    .dataframe thead th {\n",
       "        text-align: right;\n",
       "    }\n",
       "</style>\n",
       "<table border=\"1\" class=\"dataframe\">\n",
       "  <thead>\n",
       "    <tr style=\"text-align: right;\">\n",
       "      <th></th>\n",
       "      <th>Type</th>\n",
       "      <th>Presence</th>\n",
       "      <th>Valency</th>\n",
       "      <th>Domain</th>\n",
       "    </tr>\n",
       "    <tr>\n",
       "      <th>Feature name</th>\n",
       "      <th></th>\n",
       "      <th></th>\n",
       "      <th></th>\n",
       "      <th></th>\n",
       "    </tr>\n",
       "  </thead>\n",
       "  <tbody>\n",
       "    <tr>\n",
       "      <th>'households'</th>\n",
       "      <td>FLOAT</td>\n",
       "      <td>required</td>\n",
       "      <td></td>\n",
       "      <td>-</td>\n",
       "    </tr>\n",
       "    <tr>\n",
       "      <th>'housing_median_age'</th>\n",
       "      <td>FLOAT</td>\n",
       "      <td>required</td>\n",
       "      <td></td>\n",
       "      <td>-</td>\n",
       "    </tr>\n",
       "    <tr>\n",
       "      <th>'latitude'</th>\n",
       "      <td>FLOAT</td>\n",
       "      <td>required</td>\n",
       "      <td></td>\n",
       "      <td>-</td>\n",
       "    </tr>\n",
       "    <tr>\n",
       "      <th>'longitude'</th>\n",
       "      <td>FLOAT</td>\n",
       "      <td>required</td>\n",
       "      <td></td>\n",
       "      <td>-</td>\n",
       "    </tr>\n",
       "    <tr>\n",
       "      <th>'median_house_value'</th>\n",
       "      <td>FLOAT</td>\n",
       "      <td>required</td>\n",
       "      <td></td>\n",
       "      <td>-</td>\n",
       "    </tr>\n",
       "    <tr>\n",
       "      <th>'median_income'</th>\n",
       "      <td>FLOAT</td>\n",
       "      <td>required</td>\n",
       "      <td></td>\n",
       "      <td>-</td>\n",
       "    </tr>\n",
       "    <tr>\n",
       "      <th>'ocean_proximity'</th>\n",
       "      <td>STRING</td>\n",
       "      <td>required</td>\n",
       "      <td></td>\n",
       "      <td>'ocean_proximity'</td>\n",
       "    </tr>\n",
       "    <tr>\n",
       "      <th>'population'</th>\n",
       "      <td>FLOAT</td>\n",
       "      <td>required</td>\n",
       "      <td></td>\n",
       "      <td>-</td>\n",
       "    </tr>\n",
       "    <tr>\n",
       "      <th>'total_bedrooms'</th>\n",
       "      <td>FLOAT</td>\n",
       "      <td>required</td>\n",
       "      <td></td>\n",
       "      <td>-</td>\n",
       "    </tr>\n",
       "    <tr>\n",
       "      <th>'total_rooms'</th>\n",
       "      <td>FLOAT</td>\n",
       "      <td>required</td>\n",
       "      <td></td>\n",
       "      <td>-</td>\n",
       "    </tr>\n",
       "  </tbody>\n",
       "</table>\n",
       "</div>"
      ],
      "text/plain": [
       "                        Type  Presence Valency             Domain\n",
       "Feature name                                                     \n",
       "'households'           FLOAT  required                          -\n",
       "'housing_median_age'   FLOAT  required                          -\n",
       "'latitude'             FLOAT  required                          -\n",
       "'longitude'            FLOAT  required                          -\n",
       "'median_house_value'   FLOAT  required                          -\n",
       "'median_income'        FLOAT  required                          -\n",
       "'ocean_proximity'     STRING  required          'ocean_proximity'\n",
       "'population'           FLOAT  required                          -\n",
       "'total_bedrooms'       FLOAT  required                          -\n",
       "'total_rooms'          FLOAT  required                          -"
      ]
     },
     "metadata": {},
     "output_type": "display_data"
    },
    {
     "data": {
      "text/html": [
       "<div>\n",
       "<style scoped>\n",
       "    .dataframe tbody tr th:only-of-type {\n",
       "        vertical-align: middle;\n",
       "    }\n",
       "\n",
       "    .dataframe tbody tr th {\n",
       "        vertical-align: top;\n",
       "    }\n",
       "\n",
       "    .dataframe thead th {\n",
       "        text-align: right;\n",
       "    }\n",
       "</style>\n",
       "<table border=\"1\" class=\"dataframe\">\n",
       "  <thead>\n",
       "    <tr style=\"text-align: right;\">\n",
       "      <th></th>\n",
       "      <th>Values</th>\n",
       "    </tr>\n",
       "    <tr>\n",
       "      <th>Domain</th>\n",
       "      <th></th>\n",
       "    </tr>\n",
       "  </thead>\n",
       "  <tbody>\n",
       "    <tr>\n",
       "      <th>'ocean_proximity'</th>\n",
       "      <td>'&lt;1H OCEAN', 'INLAND', 'ISLAND', 'NEAR BAY', 'NEAR OCEAN'</td>\n",
       "    </tr>\n",
       "  </tbody>\n",
       "</table>\n",
       "</div>"
      ],
      "text/plain": [
       "                                                                      Values\n",
       "Domain                                                                      \n",
       "'ocean_proximity'  '<1H OCEAN', 'INLAND', 'ISLAND', 'NEAR BAY', 'NEAR OCEAN'"
      ]
     },
     "metadata": {},
     "output_type": "display_data"
    }
   ],
   "source": [
    "tfdv.display_schema(schema)"
   ]
  },
  {
   "cell_type": "markdown",
   "id": "e1ec05cc-8611-48f2-96d0-09796a982575",
   "metadata": {},
   "source": [
    "**By analyzing the statistical properties of the data, considering the frequency and distribution of values, and incorporating user-defined settings, TFDV's infer_schema function determines which features should be marked as required and which ones can be marked as optional in the inferred schema.**"
   ]
  },
  {
   "cell_type": "markdown",
   "id": "8c3bab0d-bb80-4dcc-8420-94c322c6e3d0",
   "metadata": {},
   "source": [
    "In this visualization, Presence means whether the feature must be present in 100% of\n",
    "data examples (required) or not (optional). Valency means the number of values\n",
    "required per training example. In the case of categorical features, single would mean\n",
    "each training example must have exactly one category for the feature"
   ]
  },
  {
   "cell_type": "markdown",
   "id": "43dc5f64-3d92-4390-90f5-288e1fdee6ec",
   "metadata": {},
   "source": [
    "The schema that has been generated here may not be exactly what we need because it\n",
    "assumes that the current dataset is exactly representative of all future data as well. If a\n",
    "feature is present in all training examples in this dataset, it will be marked as\n",
    "required, but in reality it may be optional. We will show you how to update the\n",
    "schema according to your own knowledge of the dataset"
   ]
  },
  {
   "cell_type": "markdown",
   "id": "bd590df3-ab5d-47fc-af8e-ddd9d966533a",
   "metadata": {},
   "source": [
    "**With the schema now defined, we can compare our training or evaluation datasets(later),\n",
    "or check our datasets for any problems that may affect our model**"
   ]
  },
  {
   "cell_type": "code",
   "execution_count": 22,
   "id": "e3daeda2-822d-4271-a5ad-8387a73918f3",
   "metadata": {},
   "outputs": [],
   "source": [
    "# generate two files from the existing data file for demo proposes \n"
   ]
  },
  {
   "cell_type": "code",
   "execution_count": 14,
   "id": "2ac2e5ee-c9ad-4994-8672-042579235714",
   "metadata": {},
   "outputs": [],
   "source": [
    "\n",
    "# Define file paths\n",
    "data_folder = '../Untitled Folder/data/data_validation/'\n",
    "original_file_path = '../Untitled Folder/data/housing.csv'\n",
    "dataset_1_path = os.path.join(data_folder, 'dataset_1.csv')\n",
    "dataset_2_path = os.path.join(data_folder, 'dataset_2.csv')\n",
    "\n",
    "# Create the data_validation folder if it doesn't exist\n",
    "if not os.path.exists(data_folder):\n",
    "    os.makedirs(data_folder)\n",
    "\n",
    "# Read the original data file\n",
    "with open(original_file_path, 'r') as original_file:\n",
    "    lines = original_file.readlines()\n",
    "\n",
    "# Write the first subset of data to dataset_1.csv\n",
    "with open(dataset_1_path, 'w') as dataset_1_file:\n",
    "    dataset_1_file.writelines(lines[:10000])\n",
    "\n",
    "# Write the second subset of data to dataset_2.csv\n",
    "with open(dataset_2_path, 'w') as dataset_2_file:\n",
    "    dataset_2_file.writelines([lines[0]] + lines[10000:20000])\n",
    "\n",
    "\n"
   ]
  },
  {
   "cell_type": "code",
   "execution_count": 15,
   "id": "3a5c294a-c5ff-4e79-898e-8e300e8c5495",
   "metadata": {},
   "outputs": [],
   "source": [
    "train_stats = tfdv.generate_statistics_from_csv(\n",
    "    data_location=os.path.join(data_folder,\"dataset_1.csv\"),\n",
    "    delimiter=',')\n",
    "val_stats = tfdv.generate_statistics_from_csv(\n",
    "    data_location=os.path.join(data_folder,\"dataset_2.csv\"),\n",
    "    delimiter=',')\n"
   ]
  },
  {
   "cell_type": "code",
   "execution_count": 16,
   "id": "7e0fae01-d1a5-4db9-87d0-81b8f9712d37",
   "metadata": {
    "scrolled": true
   },
   "outputs": [
    {
     "data": {
      "text/html": [
       "<iframe id='facets-iframe' width=\"100%\" height=\"500px\"></iframe>\n",
       "        <script>\n",
       "        facets_iframe = document.getElementById('facets-iframe');\n",
       "        facets_html = '<script src=\"https://cdnjs.cloudflare.com/ajax/libs/webcomponentsjs/1.3.3/webcomponents-lite.js\"><\\/script><link rel=\"import\" href=\"https://raw.githubusercontent.com/PAIR-code/facets/master/facets-dist/facets-jupyter.html\"><facets-overview proto-input=\"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\"></facets-overview>';\n",
       "        facets_iframe.srcdoc = facets_html;\n",
       "         facets_iframe.id = \"\";\n",
       "         setTimeout(() => {\n",
       "           facets_iframe.setAttribute('height', facets_iframe.contentWindow.document.body.offsetHeight + 'px')\n",
       "         }, 1500)\n",
       "         </script>"
      ],
      "text/plain": [
       "<IPython.core.display.HTML object>"
      ]
     },
     "metadata": {},
     "output_type": "display_data"
    }
   ],
   "source": [
    "tfdv.visualize_statistics(lhs_statistics=val_stats, rhs_statistics=train_stats,\n",
    "                          lhs_name='VAL_DATASET', rhs_name='TRAIN_DATASET')\n"
   ]
  },
  {
   "cell_type": "markdown",
   "id": "ddc593d3-a5b6-498d-ab2e-3366f0fd57ff",
   "metadata": {},
   "source": [
    "## Check for evaluation anomalies\n",
    "Does our evaluation dataset match the schema from our training dataset? This is especially important for categorical features, where we want to identify the range of acceptable values.\n",
    "\n",
    "Key Point: What would happen if we tried to evaluate using data with categorical feature values that were not in our training dataset? What about numeric features that are outside the ranges in our training dataset?"
   ]
  },
  {
   "cell_type": "code",
   "execution_count": 18,
   "id": "1e634a5c-8388-4d64-860f-7855e63a8be9",
   "metadata": {},
   "outputs": [
    {
     "data": {
      "text/html": [
       "<div>\n",
       "<style scoped>\n",
       "    .dataframe tbody tr th:only-of-type {\n",
       "        vertical-align: middle;\n",
       "    }\n",
       "\n",
       "    .dataframe tbody tr th {\n",
       "        vertical-align: top;\n",
       "    }\n",
       "\n",
       "    .dataframe thead th {\n",
       "        text-align: right;\n",
       "    }\n",
       "</style>\n",
       "<table border=\"1\" class=\"dataframe\">\n",
       "  <thead>\n",
       "    <tr style=\"text-align: right;\">\n",
       "      <th></th>\n",
       "      <th>Anomaly short description</th>\n",
       "      <th>Anomaly long description</th>\n",
       "    </tr>\n",
       "    <tr>\n",
       "      <th>Feature name</th>\n",
       "      <th></th>\n",
       "      <th></th>\n",
       "    </tr>\n",
       "  </thead>\n",
       "  <tbody>\n",
       "    <tr>\n",
       "      <th>'total_bedrooms'</th>\n",
       "      <td>Multiple errors</td>\n",
       "      <td>The feature has a shape, but it's not always present (if the feature is nested, then it should always be present at each nested level) or its value lengths vary. The feature was present in fewer examples than expected: minimum fraction = 1.000000, actual = 0.990100</td>\n",
       "    </tr>\n",
       "  </tbody>\n",
       "</table>\n",
       "</div>"
      ],
      "text/plain": [
       "                 Anomaly short description  \\\n",
       "Feature name                                 \n",
       "'total_bedrooms'           Multiple errors   \n",
       "\n",
       "                                                                                                                                                                                                                                                                   Anomaly long description  \n",
       "Feature name                                                                                                                                                                                                                                                                                 \n",
       "'total_bedrooms'  The feature has a shape, but it's not always present (if the feature is nested, then it should always be present at each nested level) or its value lengths vary. The feature was present in fewer examples than expected: minimum fraction = 1.000000, actual = 0.990100  "
      ]
     },
     "metadata": {},
     "output_type": "display_data"
    }
   ],
   "source": [
    "# Anomalies in validation set can be detected using the following code:\n",
    "anomalies = tfdv.validate_statistics(statistics=val_stats, schema=schema)\n",
    "# And we can then display the anomalies with:\n",
    "tfdv.display_anomalies(anomalies)\n",
    "\n",
    "# The following output shows the underlying anomaly protocol. This contains useful\n",
    "#information that we can use to automate our machine learning workflow:"
   ]
  },
  {
   "cell_type": "code",
   "execution_count": 19,
   "id": "dd3aa278-70f9-4fb2-8800-5d510ba3156d",
   "metadata": {},
   "outputs": [
    {
     "data": {
      "text/plain": [
       "baseline {\n",
       "  feature {\n",
       "    name: \"households\"\n",
       "    type: FLOAT\n",
       "    presence {\n",
       "      min_fraction: 1.0\n",
       "      min_count: 1\n",
       "    }\n",
       "    shape {\n",
       "      dim {\n",
       "        size: 1\n",
       "      }\n",
       "    }\n",
       "  }\n",
       "  feature {\n",
       "    name: \"housing_median_age\"\n",
       "    type: FLOAT\n",
       "    presence {\n",
       "      min_fraction: 1.0\n",
       "      min_count: 1\n",
       "    }\n",
       "    shape {\n",
       "      dim {\n",
       "        size: 1\n",
       "      }\n",
       "    }\n",
       "  }\n",
       "  feature {\n",
       "    name: \"latitude\"\n",
       "    type: FLOAT\n",
       "    presence {\n",
       "      min_fraction: 1.0\n",
       "      min_count: 1\n",
       "    }\n",
       "    shape {\n",
       "      dim {\n",
       "        size: 1\n",
       "      }\n",
       "    }\n",
       "  }\n",
       "  feature {\n",
       "    name: \"longitude\"\n",
       "    type: FLOAT\n",
       "    presence {\n",
       "      min_fraction: 1.0\n",
       "      min_count: 1\n",
       "    }\n",
       "    shape {\n",
       "      dim {\n",
       "        size: 1\n",
       "      }\n",
       "    }\n",
       "  }\n",
       "  feature {\n",
       "    name: \"median_house_value\"\n",
       "    type: FLOAT\n",
       "    presence {\n",
       "      min_fraction: 1.0\n",
       "      min_count: 1\n",
       "    }\n",
       "    shape {\n",
       "      dim {\n",
       "        size: 1\n",
       "      }\n",
       "    }\n",
       "  }\n",
       "  feature {\n",
       "    name: \"median_income\"\n",
       "    type: FLOAT\n",
       "    presence {\n",
       "      min_fraction: 1.0\n",
       "      min_count: 1\n",
       "    }\n",
       "    shape {\n",
       "      dim {\n",
       "        size: 1\n",
       "      }\n",
       "    }\n",
       "  }\n",
       "  feature {\n",
       "    name: \"ocean_proximity\"\n",
       "    type: BYTES\n",
       "    domain: \"ocean_proximity\"\n",
       "    presence {\n",
       "      min_fraction: 1.0\n",
       "      min_count: 1\n",
       "    }\n",
       "    shape {\n",
       "      dim {\n",
       "        size: 1\n",
       "      }\n",
       "    }\n",
       "  }\n",
       "  feature {\n",
       "    name: \"population\"\n",
       "    type: FLOAT\n",
       "    presence {\n",
       "      min_fraction: 1.0\n",
       "      min_count: 1\n",
       "    }\n",
       "    shape {\n",
       "      dim {\n",
       "        size: 1\n",
       "      }\n",
       "    }\n",
       "  }\n",
       "  feature {\n",
       "    name: \"total_bedrooms\"\n",
       "    type: FLOAT\n",
       "    presence {\n",
       "      min_fraction: 1.0\n",
       "      min_count: 1\n",
       "    }\n",
       "    shape {\n",
       "      dim {\n",
       "        size: 1\n",
       "      }\n",
       "    }\n",
       "  }\n",
       "  feature {\n",
       "    name: \"total_rooms\"\n",
       "    type: FLOAT\n",
       "    presence {\n",
       "      min_fraction: 1.0\n",
       "      min_count: 1\n",
       "    }\n",
       "    shape {\n",
       "      dim {\n",
       "        size: 1\n",
       "      }\n",
       "    }\n",
       "  }\n",
       "  string_domain {\n",
       "    name: \"ocean_proximity\"\n",
       "    value: \"<1H OCEAN\"\n",
       "    value: \"INLAND\"\n",
       "    value: \"ISLAND\"\n",
       "    value: \"NEAR BAY\"\n",
       "    value: \"NEAR OCEAN\"\n",
       "  }\n",
       "}\n",
       "anomaly_info {\n",
       "  key: \"total_bedrooms\"\n",
       "  value {\n",
       "    description: \"The feature has a shape, but it\\'s not always present (if the feature is nested, then it should always be present at each nested level) or its value lengths vary. The feature was present in fewer examples than expected: minimum fraction = 1.000000, actual = 0.990100\"\n",
       "    severity: ERROR\n",
       "    short_description: \"Multiple errors\"\n",
       "    reason {\n",
       "      type: INVALID_FEATURE_SHAPE\n",
       "      short_description: \"Feature shape dropped\"\n",
       "      description: \"The feature has a shape, but it\\'s not always present (if the feature is nested, then it should always be present at each nested level) or its value lengths vary.\"\n",
       "    }\n",
       "    reason {\n",
       "      type: FEATURE_TYPE_LOW_FRACTION_PRESENT\n",
       "      short_description: \"Column dropped\"\n",
       "      description: \"The feature was present in fewer examples than expected: minimum fraction = 1.000000, actual = 0.990100\"\n",
       "    }\n",
       "    path {\n",
       "      step: \"total_bedrooms\"\n",
       "    }\n",
       "  }\n",
       "}\n",
       "anomaly_name_format: SERIALIZED_PATH"
      ]
     },
     "execution_count": 19,
     "metadata": {},
     "output_type": "execute_result"
    }
   ],
   "source": [
    "anomalies"
   ]
  },
  {
   "cell_type": "markdown",
   "id": "d06a6aa3-9e51-4395-9c45-d11aa6f2fa91",
   "metadata": {},
   "source": [
    "The provided information points out a problem with the \"total_bedrooms\" feature in your data:\n",
    "\n",
    "1. **Description of the Problem:**\n",
    "   - The \"total_bedrooms\" feature is supposed to be there in every part of your data, but it's missing in some parts or doesn't always have the same amount of information. For example, some entries might have it while others don't, or its length (like the number of bedrooms) varies between entries.\n",
    "   - The expected rule was that this feature should be in all parts of your data (like in every row), but it's actually missing in around 0.99% of the places where it should be.\n",
    "\n",
    "2. **Severity of the Problem:**\n",
    "   - This is marked as a serious issue (ERROR), meaning it needs immediate attention because it affects the reliability of your data analysis or machine learning models.\n",
    "\n",
    "3. **Reasons for the Problem:**\n",
    "   - The first reason (INVALID_FEATURE_SHAPE) explains that while the feature \"total_bedrooms\" has a defined structure, it's not consistently present where it should be or doesn't always have the expected length.\n",
    "   - The second reason (FEATURE_TYPE_LOW_FRACTION_PRESENT) tells us that this feature is missing more often than it should be based on what's expected from the data.\n",
    "\n",
    "4. **Path of the Problem:**\n",
    "   - The problem specifically relates to the \"total_bedrooms\" feature in your dataset.\n",
    "\n",
    "To fix this, you might need to ensure that the \"total_bedrooms\" feature is consistently available in all parts of your data, or if there are variations in the length of this feature, you'll need to handle that consistently across your dataset."
   ]
  },
  {
   "cell_type": "markdown",
   "id": "abb8fe72-f279-4a50-a8d1-b8ce49e6dcca",
   "metadata": {},
   "source": [
    "### Updating the Schema"
   ]
  },
  {
   "cell_type": "code",
   "execution_count": 50,
   "id": "df066f23-9bbe-4662-91cb-bf4482316573",
   "metadata": {},
   "outputs": [],
   "source": [
    "# our training set has 1 percent missing of 'total_bedrooms'  values compare to validation set which has 0.99 percent , what if \"total_bedrooms\" is an importannt \n",
    "#column and we need to have it most of the training examples? lets update our schema"
   ]
  },
  {
   "cell_type": "code",
   "execution_count": 47,
   "id": "6015ce26-905c-40f8-83c2-65fd327c3830",
   "metadata": {},
   "outputs": [],
   "source": [
    "schema_location = \"../pipeline_root_learning/tfx_for_tfrecordData/SchemaGen/schema/15/schema.pbtxt\"  #or schema = tfdv.infer_schema(stats)\n",
    "# schema = tfdv.load_schema_text(schema_location)\n",
    "schema = tfdv.infer_schema(stats)"
   ]
  },
  {
   "cell_type": "code",
   "execution_count": 20,
   "id": "443f4684-12e6-4b60-b126-71b05a061d1a",
   "metadata": {},
   "outputs": [
    {
     "data": {
      "text/plain": [
       "feature {\n",
       "  name: \"households\"\n",
       "  type: FLOAT\n",
       "  presence {\n",
       "    min_fraction: 1.0\n",
       "    min_count: 1\n",
       "  }\n",
       "  shape {\n",
       "    dim {\n",
       "      size: 1\n",
       "    }\n",
       "  }\n",
       "}\n",
       "feature {\n",
       "  name: \"housing_median_age\"\n",
       "  type: FLOAT\n",
       "  presence {\n",
       "    min_fraction: 1.0\n",
       "    min_count: 1\n",
       "  }\n",
       "  shape {\n",
       "    dim {\n",
       "      size: 1\n",
       "    }\n",
       "  }\n",
       "}\n",
       "feature {\n",
       "  name: \"latitude\"\n",
       "  type: FLOAT\n",
       "  presence {\n",
       "    min_fraction: 1.0\n",
       "    min_count: 1\n",
       "  }\n",
       "  shape {\n",
       "    dim {\n",
       "      size: 1\n",
       "    }\n",
       "  }\n",
       "}\n",
       "feature {\n",
       "  name: \"longitude\"\n",
       "  type: FLOAT\n",
       "  presence {\n",
       "    min_fraction: 1.0\n",
       "    min_count: 1\n",
       "  }\n",
       "  shape {\n",
       "    dim {\n",
       "      size: 1\n",
       "    }\n",
       "  }\n",
       "}\n",
       "feature {\n",
       "  name: \"median_house_value\"\n",
       "  type: FLOAT\n",
       "  presence {\n",
       "    min_fraction: 1.0\n",
       "    min_count: 1\n",
       "  }\n",
       "  shape {\n",
       "    dim {\n",
       "      size: 1\n",
       "    }\n",
       "  }\n",
       "}\n",
       "feature {\n",
       "  name: \"median_income\"\n",
       "  type: FLOAT\n",
       "  presence {\n",
       "    min_fraction: 1.0\n",
       "    min_count: 1\n",
       "  }\n",
       "  shape {\n",
       "    dim {\n",
       "      size: 1\n",
       "    }\n",
       "  }\n",
       "}\n",
       "feature {\n",
       "  name: \"ocean_proximity\"\n",
       "  type: BYTES\n",
       "  domain: \"ocean_proximity\"\n",
       "  presence {\n",
       "    min_fraction: 1.0\n",
       "    min_count: 1\n",
       "  }\n",
       "  shape {\n",
       "    dim {\n",
       "      size: 1\n",
       "    }\n",
       "  }\n",
       "}\n",
       "feature {\n",
       "  name: \"population\"\n",
       "  type: FLOAT\n",
       "  presence {\n",
       "    min_fraction: 1.0\n",
       "    min_count: 1\n",
       "  }\n",
       "  shape {\n",
       "    dim {\n",
       "      size: 1\n",
       "    }\n",
       "  }\n",
       "}\n",
       "feature {\n",
       "  name: \"total_bedrooms\"\n",
       "  type: FLOAT\n",
       "  presence {\n",
       "    min_fraction: 1.0\n",
       "    min_count: 1\n",
       "  }\n",
       "  shape {\n",
       "    dim {\n",
       "      size: 1\n",
       "    }\n",
       "  }\n",
       "}\n",
       "feature {\n",
       "  name: \"total_rooms\"\n",
       "  type: FLOAT\n",
       "  presence {\n",
       "    min_fraction: 1.0\n",
       "    min_count: 1\n",
       "  }\n",
       "  shape {\n",
       "    dim {\n",
       "      size: 1\n",
       "    }\n",
       "  }\n",
       "}\n",
       "string_domain {\n",
       "  name: \"ocean_proximity\"\n",
       "  value: \"<1H OCEAN\"\n",
       "  value: \"INLAND\"\n",
       "  value: \"ISLAND\"\n",
       "  value: \"NEAR BAY\"\n",
       "  value: \"NEAR OCEAN\"\n",
       "}"
      ]
     },
     "execution_count": 20,
     "metadata": {},
     "output_type": "execute_result"
    }
   ],
   "source": [
    "schema"
   ]
  },
  {
   "cell_type": "markdown",
   "id": "95529d9e-fd9e-4e6c-94a6-29535e941350",
   "metadata": {},
   "source": []
  },
  {
   "cell_type": "code",
   "execution_count": 21,
   "id": "073dff2f-6380-47f8-b1d0-ee24d084a88a",
   "metadata": {},
   "outputs": [],
   "source": [
    "#we update this particular feature so that it is required in 90% of cases\n",
    "total_bedroom_feature = tfdv.get_feature(schema, 'total_bedrooms')\n",
    "total_bedroom_feature.presence.min_fraction = 0.99"
   ]
  },
  {
   "cell_type": "code",
   "execution_count": 22,
   "id": "9dfa8919-8795-4719-bdb8-0e169813c68d",
   "metadata": {},
   "outputs": [],
   "source": [
    "#We could also update the list of \"ocean_proximity\" to remove \"<1H OCEAN\":\n",
    "ocean_pro = tfdv.get_domain(schema, 'ocean_proximity')\n",
    "ocean_pro.value.remove('<1H OCEAN')"
   ]
  },
  {
   "cell_type": "markdown",
   "id": "8f0438e7-dc01-4501-9647-de87ff48c522",
   "metadata": {},
   "source": []
  },
  {
   "cell_type": "code",
   "execution_count": 23,
   "id": "8187dac4-8c4c-4cb1-9cca-0e9908da50e8",
   "metadata": {},
   "outputs": [
    {
     "data": {
      "text/plain": [
       "feature {\n",
       "  name: \"households\"\n",
       "  type: FLOAT\n",
       "  presence {\n",
       "    min_fraction: 1.0\n",
       "    min_count: 1\n",
       "  }\n",
       "  shape {\n",
       "    dim {\n",
       "      size: 1\n",
       "    }\n",
       "  }\n",
       "}\n",
       "feature {\n",
       "  name: \"housing_median_age\"\n",
       "  type: FLOAT\n",
       "  presence {\n",
       "    min_fraction: 1.0\n",
       "    min_count: 1\n",
       "  }\n",
       "  shape {\n",
       "    dim {\n",
       "      size: 1\n",
       "    }\n",
       "  }\n",
       "}\n",
       "feature {\n",
       "  name: \"latitude\"\n",
       "  type: FLOAT\n",
       "  presence {\n",
       "    min_fraction: 1.0\n",
       "    min_count: 1\n",
       "  }\n",
       "  shape {\n",
       "    dim {\n",
       "      size: 1\n",
       "    }\n",
       "  }\n",
       "}\n",
       "feature {\n",
       "  name: \"longitude\"\n",
       "  type: FLOAT\n",
       "  presence {\n",
       "    min_fraction: 1.0\n",
       "    min_count: 1\n",
       "  }\n",
       "  shape {\n",
       "    dim {\n",
       "      size: 1\n",
       "    }\n",
       "  }\n",
       "}\n",
       "feature {\n",
       "  name: \"median_house_value\"\n",
       "  type: FLOAT\n",
       "  presence {\n",
       "    min_fraction: 1.0\n",
       "    min_count: 1\n",
       "  }\n",
       "  shape {\n",
       "    dim {\n",
       "      size: 1\n",
       "    }\n",
       "  }\n",
       "}\n",
       "feature {\n",
       "  name: \"median_income\"\n",
       "  type: FLOAT\n",
       "  presence {\n",
       "    min_fraction: 1.0\n",
       "    min_count: 1\n",
       "  }\n",
       "  shape {\n",
       "    dim {\n",
       "      size: 1\n",
       "    }\n",
       "  }\n",
       "}\n",
       "feature {\n",
       "  name: \"ocean_proximity\"\n",
       "  type: BYTES\n",
       "  domain: \"ocean_proximity\"\n",
       "  presence {\n",
       "    min_fraction: 1.0\n",
       "    min_count: 1\n",
       "  }\n",
       "  shape {\n",
       "    dim {\n",
       "      size: 1\n",
       "    }\n",
       "  }\n",
       "}\n",
       "feature {\n",
       "  name: \"population\"\n",
       "  type: FLOAT\n",
       "  presence {\n",
       "    min_fraction: 1.0\n",
       "    min_count: 1\n",
       "  }\n",
       "  shape {\n",
       "    dim {\n",
       "      size: 1\n",
       "    }\n",
       "  }\n",
       "}\n",
       "feature {\n",
       "  name: \"total_bedrooms\"\n",
       "  type: FLOAT\n",
       "  presence {\n",
       "    min_fraction: 0.99\n",
       "    min_count: 1\n",
       "  }\n",
       "  shape {\n",
       "    dim {\n",
       "      size: 1\n",
       "    }\n",
       "  }\n",
       "}\n",
       "feature {\n",
       "  name: \"total_rooms\"\n",
       "  type: FLOAT\n",
       "  presence {\n",
       "    min_fraction: 1.0\n",
       "    min_count: 1\n",
       "  }\n",
       "  shape {\n",
       "    dim {\n",
       "      size: 1\n",
       "    }\n",
       "  }\n",
       "}\n",
       "string_domain {\n",
       "  name: \"ocean_proximity\"\n",
       "  value: \"INLAND\"\n",
       "  value: \"ISLAND\"\n",
       "  value: \"NEAR BAY\"\n",
       "  value: \"NEAR OCEAN\"\n",
       "}"
      ]
     },
     "execution_count": 23,
     "metadata": {},
     "output_type": "execute_result"
    }
   ],
   "source": [
    "schema"
   ]
  },
  {
   "cell_type": "markdown",
   "id": "b93f6f15-3a1a-4b5a-8622-31de53acb8ff",
   "metadata": {},
   "source": [
    "    -we can compare schema before and now , our total_bedrooms feature in eval set is now present in 99% times also  we have removed ('<1H OCEAN')\n",
    "    -Once we are happy with the schema, we write the schema file to its serialized location\n",
    "     with the following:"
   ]
  },
  {
   "cell_type": "code",
   "execution_count": 25,
   "id": "81aa158a-c6b4-4e2f-af25-9ebba8e2fb2b",
   "metadata": {},
   "outputs": [],
   "source": [
    "schema_location = \"../pipeline_root_learning/tfx_for_tfrecordData/SchemaGen/schema/15/schema.pbtxt\"\n",
    "tfdv.write_schema_text(schema, schema_location)"
   ]
  },
  {
   "cell_type": "markdown",
   "id": "1319ca6d-947d-4ae9-a9c9-7f061ff38933",
   "metadata": {},
   "source": [
    "We then need to revalidate the statistics to view the updated anomalies"
   ]
  },
  {
   "cell_type": "code",
   "execution_count": 26,
   "id": "cc17252f-396b-4bff-9083-78f389937254",
   "metadata": {},
   "outputs": [
    {
     "data": {
      "text/html": [
       "<div>\n",
       "<style scoped>\n",
       "    .dataframe tbody tr th:only-of-type {\n",
       "        vertical-align: middle;\n",
       "    }\n",
       "\n",
       "    .dataframe tbody tr th {\n",
       "        vertical-align: top;\n",
       "    }\n",
       "\n",
       "    .dataframe thead th {\n",
       "        text-align: right;\n",
       "    }\n",
       "</style>\n",
       "<table border=\"1\" class=\"dataframe\">\n",
       "  <thead>\n",
       "    <tr style=\"text-align: right;\">\n",
       "      <th></th>\n",
       "      <th>Anomaly short description</th>\n",
       "      <th>Anomaly long description</th>\n",
       "    </tr>\n",
       "    <tr>\n",
       "      <th>Feature name</th>\n",
       "      <th></th>\n",
       "      <th></th>\n",
       "    </tr>\n",
       "  </thead>\n",
       "  <tbody>\n",
       "    <tr>\n",
       "      <th>'total_bedrooms'</th>\n",
       "      <td>Feature shape dropped</td>\n",
       "      <td>The feature has a shape, but it's not always present (if the feature is nested, then it should always be present at each nested level) or its value lengths vary.</td>\n",
       "    </tr>\n",
       "    <tr>\n",
       "      <th>'ocean_proximity'</th>\n",
       "      <td>Unexpected string values</td>\n",
       "      <td>Examples contain values missing from the schema: &lt;1H OCEAN (~35%).</td>\n",
       "    </tr>\n",
       "  </tbody>\n",
       "</table>\n",
       "</div>"
      ],
      "text/plain": [
       "                  Anomaly short description  \\\n",
       "Feature name                                  \n",
       "'total_bedrooms'      Feature shape dropped   \n",
       "'ocean_proximity'  Unexpected string values   \n",
       "\n",
       "                                                                                                                                                            Anomaly long description  \n",
       "Feature name                                                                                                                                                                          \n",
       "'total_bedrooms'   The feature has a shape, but it's not always present (if the feature is nested, then it should always be present at each nested level) or its value lengths vary.  \n",
       "'ocean_proximity'                                                                                                Examples contain values missing from the schema: <1H OCEAN (~35%).   "
      ]
     },
     "metadata": {},
     "output_type": "display_data"
    }
   ],
   "source": [
    "updated_anomalies = tfdv.validate_statistics(val_stats, schema)\n",
    "tfdv.display_anomalies(updated_anomalies)"
   ]
  },
  {
   "cell_type": "markdown",
   "id": "7515c4b5-a9ed-43e6-aa9b-d1a523e3c20b",
   "metadata": {},
   "source": [
    "since we had remove one value of ocean_proximity our updated schema has generated a new analomy , \n",
    "\n",
    "In this way, we can adjust the anomalies to those that are appropriate for our dataset.2"
   ]
  },
  {
   "cell_type": "markdown",
   "id": "bbe842ef-fd4d-44dc-88b4-e2e639becd0c",
   "metadata": {},
   "source": [
    "## Check for drift and skew\n"
   ]
  },
  {
   "cell_type": "markdown",
   "id": "54558025-7276-421e-8564-52e089a8a0fe",
   "metadata": {},
   "source": [
    "TFDV provides a built-in “skew comparator” that detects large differences between\r\n",
    "the statistics of two datasets. This isn’t the statistical definition of skew (a dataset that\r\n",
    "is asymmetrically distributed around its mean). It is defined in TFDV as t L-infinity norm of the difference between the serving_statistics of two datasets. `If\r\n",
    "the difference between the two datasets exceeds the threshold of the L-infinity norm\r\n",
    "for a given feature, TFDV highlights it as an anomaly using the anomaly detecti`oer.herain on.\n",
    "\n"
   ]
  },
  {
   "cell_type": "markdown",
   "id": "5fa56b31-0ab6-4441-b566-e39f68366a72",
   "metadata": {},
   "source": [
    "### compare the skew between datasets:"
   ]
  },
  {
   "cell_type": "code",
   "execution_count": 29,
   "id": "03f2b71b-aba7-4629-b26b-db57a3abbd7f",
   "metadata": {},
   "outputs": [],
   "source": [
    "tfdv.get_feature(schema, 'total_bedrooms').skew_comparator.infinity_norm.threshold = 0.01\n",
    "skew_anomalies = tfdv.validate_statistics(\n",
    "        statistics=train_stats, schema=schema, serving_statistics=val_stats)"
   ]
  },
  {
   "cell_type": "code",
   "execution_count": 30,
   "id": "ef2bb90c-9d69-4e7c-9849-389adba76f75",
   "metadata": {},
   "outputs": [
    {
     "data": {
      "text/html": [
       "<div>\n",
       "<style scoped>\n",
       "    .dataframe tbody tr th:only-of-type {\n",
       "        vertical-align: middle;\n",
       "    }\n",
       "\n",
       "    .dataframe tbody tr th {\n",
       "        vertical-align: top;\n",
       "    }\n",
       "\n",
       "    .dataframe thead th {\n",
       "        text-align: right;\n",
       "    }\n",
       "</style>\n",
       "<table border=\"1\" class=\"dataframe\">\n",
       "  <thead>\n",
       "    <tr style=\"text-align: right;\">\n",
       "      <th></th>\n",
       "      <th>Anomaly short description</th>\n",
       "      <th>Anomaly long description</th>\n",
       "    </tr>\n",
       "    <tr>\n",
       "      <th>Feature name</th>\n",
       "      <th></th>\n",
       "      <th></th>\n",
       "    </tr>\n",
       "  </thead>\n",
       "  <tbody>\n",
       "    <tr>\n",
       "      <th>'total_bedrooms'</th>\n",
       "      <td>Multiple errors</td>\n",
       "      <td>The feature has a shape, but it's not always present (if the feature is nested, then it should always be present at each nested level) or its value lengths vary. The feature was present in fewer examples than expected: minimum fraction = 0.990000, actual = 0.989999</td>\n",
       "    </tr>\n",
       "    <tr>\n",
       "      <th>'ocean_proximity'</th>\n",
       "      <td>Multiple errors</td>\n",
       "      <td>Examples contain values missing from the schema: &lt;1H OCEAN (~53%).  The Linfty distance between training and serving is 0.180354 (up to six significant digits), above the threshold 0.01. The feature value with maximum difference is: &lt;1H OCEAN</td>\n",
       "    </tr>\n",
       "  </tbody>\n",
       "</table>\n",
       "</div>"
      ],
      "text/plain": [
       "                  Anomaly short description  \\\n",
       "Feature name                                  \n",
       "'total_bedrooms'            Multiple errors   \n",
       "'ocean_proximity'           Multiple errors   \n",
       "\n",
       "                                                                                                                                                                                                                                                                    Anomaly long description  \n",
       "Feature name                                                                                                                                                                                                                                                                                  \n",
       "'total_bedrooms'   The feature has a shape, but it's not always present (if the feature is nested, then it should always be present at each nested level) or its value lengths vary. The feature was present in fewer examples than expected: minimum fraction = 0.990000, actual = 0.989999  \n",
       "'ocean_proximity'                         Examples contain values missing from the schema: <1H OCEAN (~53%).  The Linfty distance between training and serving is 0.180354 (up to six significant digits), above the threshold 0.01. The feature value with maximum difference is: <1H OCEAN  "
      ]
     },
     "metadata": {},
     "output_type": "display_data"
    }
   ],
   "source": [
    "tfdv.display_anomalies(skew_anomalies)\n"
   ]
  },
  {
   "cell_type": "markdown",
   "id": "f68ef849-9b76-46f6-8275-5036df7db556",
   "metadata": {},
   "source": [
    "TFDV also provides a `drift_comparator` for comparing the statistics of two datasets\n",
    "of the same type, such as two training sets collected on two different days. If drift is\n",
    "detected, the data scientist should either check the model architecture or determine\n",
    "whether feature engineering needs to be performed again.\n",
    "\n",
    "Similar to this skew example, you should define your drift_comparator for the features\r\n",
    "you would like to watch and compare. You can then call validate_statistics\r\n",
    "with the two dataset statistics as arguments, one for your baseline (e.g., yesterday’s\r\n",
    "dataset) and one for a comparison (e.g., today’s dataset):"
   ]
  },
  {
   "cell_type": "code",
   "execution_count": 34,
   "id": "0f8ceb6a-c78a-4c2d-a8a3-1cb90c183fbb",
   "metadata": {},
   "outputs": [],
   "source": [
    "tfdv.get_feature(schema,'total_bedrooms').drift_comparator.infinity_norm.threshold = 0.01\n",
    "# drift_anomalies = tfdv.validate_statistics(statistics=train_stats_today,schema=schema,previous_statistics=train_stats_yesterday)\n"
   ]
  },
  {
   "cell_type": "code",
   "execution_count": null,
   "id": "fa0da1a9-269b-40bf-a64f-dfd8cfad4914",
   "metadata": {},
   "outputs": [],
   "source": []
  },
  {
   "cell_type": "markdown",
   "id": "c5124a0c-82fd-445e-8581-6c2c1e4a0dab",
   "metadata": {},
   "source": [
    "## Biased Datasets"
   ]
  },
  {
   "cell_type": "code",
   "execution_count": 36,
   "id": "cdc62efb-cbda-47f6-b142-19ca400148f6",
   "metadata": {
    "scrolled": true
   },
   "outputs": [
    {
     "data": {
      "text/html": [
       "<iframe id='facets-iframe' width=\"100%\" height=\"500px\"></iframe>\n",
       "        <script>\n",
       "        facets_iframe = document.getElementById('facets-iframe');\n",
       "        facets_html = '<script src=\"https://cdnjs.cloudflare.com/ajax/libs/webcomponentsjs/1.3.3/webcomponents-lite.js\"><\\/script><link rel=\"import\" href=\"https://raw.githubusercontent.com/PAIR-code/facets/master/facets-dist/facets-jupyter.html\"><facets-overview proto-input=\"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\"></facets-overview>';\n",
       "        facets_iframe.srcdoc = facets_html;\n",
       "         facets_iframe.id = \"\";\n",
       "         setTimeout(() => {\n",
       "           facets_iframe.setAttribute('height', facets_iframe.contentWindow.document.body.offsetHeight + 'px')\n",
       "         }, 1500)\n",
       "         </script>"
      ],
      "text/plain": [
       "<IPython.core.display.HTML object>"
      ]
     },
     "metadata": {},
     "output_type": "display_data"
    }
   ],
   "source": [
    "tfdv.visualize_statistics(lhs_statistics=val_stats, rhs_statistics=train_stats,\n",
    "                          lhs_name='VAL_DATASET', rhs_name='TRAIN_DATASET')\n"
   ]
  },
  {
   "cell_type": "code",
   "execution_count": 38,
   "id": "43d777f2-79f1-46f4-8228-7f9699af097a",
   "metadata": {},
   "outputs": [],
   "source": [
    "# it is observed that are data is bisased in ocean Proximity as one feature is highly ssampled than another"
   ]
  },
  {
   "cell_type": "code",
   "execution_count": null,
   "id": "0054ef04-0f62-46a4-9a89-8072e33c90f0",
   "metadata": {},
   "outputs": [],
   "source": []
  },
  {
   "cell_type": "markdown",
   "id": "3b5c7a7d-d9b4-4de3-8fee-beec5a0d8161",
   "metadata": {},
   "source": [
    "## Integrating TFDV into Your Machine Learning Pipeline"
   ]
  },
  {
   "cell_type": "markdown",
   "id": "68b6b65f-4237-4688-9a2b-d4b3a80c4a00",
   "metadata": {},
   "source": []
  },
  {
   "cell_type": "code",
   "execution_count": null,
   "id": "ec5d0bf6-eeef-401f-86db-650c68e3b0bf",
   "metadata": {},
   "outputs": [],
   "source": []
  }
 ],
 "metadata": {
  "kernelspec": {
   "display_name": "Python 3 (ipykernel)",
   "language": "python",
   "name": "python3"
  },
  "language_info": {
   "codemirror_mode": {
    "name": "ipython",
    "version": 3
   },
   "file_extension": ".py",
   "mimetype": "text/x-python",
   "name": "python",
   "nbconvert_exporter": "python",
   "pygments_lexer": "ipython3",
   "version": "3.9.18"
  }
 },
 "nbformat": 4,
 "nbformat_minor": 5
}
