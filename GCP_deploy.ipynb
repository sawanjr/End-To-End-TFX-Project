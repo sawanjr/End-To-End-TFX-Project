{
 "cells": [
  {
   "cell_type": "code",
   "execution_count": 6,
   "id": "eca0d4f7-49e0-478f-b3c1-cb45bed693d7",
   "metadata": {},
   "outputs": [],
   "source": [
    "# i have run it from collab"
   ]
  },
  {
   "cell_type": "markdown",
   "id": "9b7ed781-8a1c-4e68-9798-2637ad0f859a",
   "metadata": {},
   "source": [
    "https://colab.research.google.com/drive/1uB8iMampsheeK07Xz4ISq3VRTJsfA083?authuser=0#crollTo=IQUToXl0exMr"
   ]
  },
  {
   "cell_type": "code",
   "execution_count": null,
   "id": "fdbb037e-b09a-43bb-8a99-1006d7f124ba",
   "metadata": {},
   "outputs": [],
   "source": []
  }
 ],
 "metadata": {
  "kernelspec": {
   "display_name": "Python 3 (ipykernel)",
   "language": "python",
   "name": "python3"
  },
  "language_info": {
   "codemirror_mode": {
    "name": "ipython",
    "version": 3
   },
   "file_extension": ".py",
   "mimetype": "text/x-python",
   "name": "python",
   "nbconvert_exporter": "python",
   "pygments_lexer": "ipython3",
   "version": "3.9.18"
  }
 },
 "nbformat": 4,
 "nbformat_minor": 5
}
