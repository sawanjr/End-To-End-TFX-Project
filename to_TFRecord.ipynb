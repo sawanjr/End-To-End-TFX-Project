{
 "cells": [
  {
   "cell_type": "code",
   "execution_count": 1,
   "id": "9420552f-f0b1-4bf8-a5d3-3b7f759c2622",
   "metadata": {},
   "outputs": [],
   "source": [
    "# a bit theory about tf data structure"
   ]
  },
  {
   "cell_type": "markdown",
   "id": "bc78892c-5821-41e2-a4ee-3fdf910bfe2c",
   "metadata": {},
   "source": [
    "`tf.train.Feature` is part of `TensorFlow's protocol buffers` (protobuf) format, which is a `way to serialize structured data`.\n",
    "It `represents a single feature`, which can be of three types: `BytesList`, `FloatList`, or `Int64List`. These types are used to store byte strings, floating-point numbers, and integers, respectively.\n",
    "\n",
    " Types of tf.train.Feature:\n",
    "\n",
    "    BytesList: Used for storing byte strings, like images or text data encoded as bytes.\n",
    "    FloatList: Used for storing floating-point numbers, such as numerical features.\n",
    "    Int64List: Used for storing integer values, commonly used for categorical or numerical features represented as integers."
   ]
  },
  {
   "cell_type": "code",
   "execution_count": 6,
   "id": "03976140-a73e-48ee-9438-854e4e3c703e",
   "metadata": {},
   "outputs": [],
   "source": [
    "import tensorflow as tf\n",
    "\n",
    "# Assume we have some data about a person\n",
    "person_data = {\n",
    "    'name': 'John Doe',\n",
    "    'age': 30,\n",
    "    'height': 175.5,\n",
    "    'image_bytes': b'...',  # Assume this is the byte representation of an image\n",
    "}\n",
    "\n",
    "# Convert each feature to tf.train.Feature\n",
    "name_feature = tf.train.Feature(bytes_list=tf.train.BytesList(value=[person_data['name'].encode('utf-8')]))\n",
    "age_feature = tf.train.Feature(int64_list=tf.train.Int64List(value=[person_data['age']]))\n",
    "height_feature = tf.train.Feature(float_list=tf.train.FloatList(value=[person_data['height']]))\n",
    "image_feature = tf.train.Feature(bytes_list=tf.train.BytesList(value=[person_data['image_bytes']]))\n",
    "\n",
    "# Create a TensorFlow Example using these features\n",
    "example = tf.train.Example(features=tf.train.Features(feature={\n",
    "    'name': name_feature,\n",
    "    'age': age_feature,\n",
    "    'height': height_feature,\n",
    "    'image': image_feature,\n",
    "}))\n",
    "\n",
    "# Serialize the Example to string\n",
    "example_str = example.SerializeToString()\n"
   ]
  },
  {
   "cell_type": "code",
   "execution_count": 7,
   "id": "8738ca57-b138-4a89-9fc6-dbb20b4ef7c5",
   "metadata": {},
   "outputs": [
    {
     "name": "stdout",
     "output_type": "stream",
     "text": [
      "features {\n",
      "  feature {\n",
      "    key: \"age\"\n",
      "    value {\n",
      "      int64_list {\n",
      "        value: 30\n",
      "      }\n",
      "    }\n",
      "  }\n",
      "  feature {\n",
      "    key: \"height\"\n",
      "    value {\n",
      "      float_list {\n",
      "        value: 175.5\n",
      "      }\n",
      "    }\n",
      "  }\n",
      "  feature {\n",
      "    key: \"image\"\n",
      "    value {\n",
      "      bytes_list {\n",
      "        value: \"...\"\n",
      "      }\n",
      "    }\n",
      "  }\n",
      "  feature {\n",
      "    key: \"name\"\n",
      "    value {\n",
      "      bytes_list {\n",
      "        value: \"John Doe\"\n",
      "      }\n",
      "    }\n",
      "  }\n",
      "}\n",
      "\n",
      "b'\\nJ\\n\\x14\\n\\x04name\\x12\\x0c\\n\\n\\n\\x08John Doe\\n\\x0c\\n\\x03age\\x12\\x05\\x1a\\x03\\n\\x01\\x1e\\n\\x12\\n\\x06height\\x12\\x08\\x12\\x06\\n\\x04\\x00\\x80/C\\n\\x10\\n\\x05image\\x12\\x07\\n\\x05\\n\\x03...'\n"
     ]
    }
   ],
   "source": [
    "print(example)\n",
    "print(example_str)"
   ]
  },
  {
   "cell_type": "markdown",
   "id": "ab888889-7a65-42cb-9f5a-bbecfc1804c1",
   "metadata": {},
   "source": [
    "`name_feature, age_feature, height_feature, and image_feature` are instances of tf.train.Feature, each representing a different type of feature.\n",
    "We then create a `TensorFlow Example` using these features and `serialize it into a string (example_str)` that can be `stored or used in TensorFlow pipelines.`"
   ]
  },
  {
   "cell_type": "markdown",
   "id": "a3e893aa-fdac-4977-a9e5-921ecc4cbe0e",
   "metadata": {},
   "source": [
    "`serialization` is often part of the final steps before feeding data into models. It encapsulates the processed data into a `serialized format` that is ready to be consumed by training or inference processes.\n",
    "\n",
    "\n",
    "Serialization is the process of `converting complex data structures, such as objects or data sets, into a format that can be easily stored, transmitted, or reconstructed later`. It's like packaging information into a compact and standardized format for efficient handling."
   ]
  },
  {
   "cell_type": "code",
   "execution_count": null,
   "id": "e849c272-a328-45ae-a198-394edc4014a4",
   "metadata": {},
   "outputs": [],
   "source": []
  },
  {
   "cell_type": "code",
   "execution_count": 1,
   "id": "6d043ed8-e33e-4a29-8368-eff93016a83f",
   "metadata": {},
   "outputs": [],
   "source": [
    "import tensorflow as tf\n",
    "import csv # TO READ CSV FILES\n",
    "import os"
   ]
  },
  {
   "cell_type": "code",
   "execution_count": 3,
   "id": "8432e80b-03c8-49cf-aa7e-8e0307d711f7",
   "metadata": {},
   "outputs": [],
   "source": [
    "# Define functions for creating TFRecord features\n",
    "def _float_feature(value):\n",
    "    return tf.train.Feature(float_list=tf.train.FloatList(value=[value]))\n",
    "\n",
    "def _bytes_feature(value):\n",
    "    return tf.train.Feature(bytes_list=tf.train.BytesList(value=[value.encode()]))\n",
    "\n",
    "#The function's purpose is to convert a single floating-point number (value) into a specific format that TensorFlow can understand when working with data.\n",
    "#This format is a tf.train.Feature object, which is a way to represent a feature (piece of data) within a TensorFlow record.\n",
    "\n",
    "#When you call the encode() method on a string, it converts the string into a bytes-like object using a specified encoding (e.g., UTF-8). \n",
    "#This conversion is necessary when passing a string to a function that expects bytes, such as _bytes_feature in TensorFlow."
   ]
  },
  {
   "cell_type": "code",
   "execution_count": 3,
   "id": "9e642c94-c56b-44d5-a278-faea178ac260",
   "metadata": {},
   "outputs": [
    {
     "data": {
      "text/plain": [
       "'..\\\\tfrecord_data/housing.tfrecord'"
      ]
     },
     "execution_count": 3,
     "metadata": {},
     "output_type": "execute_result"
    }
   ],
   "source": [
    "base_dir = os.getcwd()\n",
    "data_dir = os.path.join(os.pardir, \"tfrecord_data/housing.tfrecord\")\n",
    "data_dir"
   ]
  },
  {
   "cell_type": "code",
   "execution_count": 5,
   "id": "9aca3d9c-b6fd-45d8-ac76-afb88a918baf",
   "metadata": {},
   "outputs": [
    {
     "name": "stdout",
     "output_type": "stream",
     "text": [
      "original_data_file: data\\housing.csv\n",
      "tfrecord_file_path: C:\\Users\\ASUS\\building-machine-learning-pipelines\\Untitled Folder\\..\\tfrecord_data/housing.tfrecord\n"
     ]
    }
   ],
   "source": [
    "original_data_file = os.path.join(\"data\", \"housing.csv\")\n",
    "print(f\"original_data_file: {original_data_file}\")\n",
    "tfrecord_file_path =os.path.join(base_dir, data_dir)\n",
    "print(f\"tfrecord_file_path: {tfrecord_file_path}\")\n"
   ]
  },
  {
   "cell_type": "code",
   "execution_count": null,
   "id": "daa4bd99-a7dc-482d-8f89-61cb4cd324f9",
   "metadata": {},
   "outputs": [],
   "source": []
  },
  {
   "cell_type": "code",
   "execution_count": 14,
   "id": "2fc52c20-4b51-422d-b0e2-9b996f4a3ade",
   "metadata": {},
   "outputs": [],
   "source": [
    "# tf_record_writer = tf.io.TFRecordWriter(tfrecord_filename)\n"
   ]
  },
  {
   "cell_type": "code",
   "execution_count": 17,
   "id": "66f7df54-4eda-4ce1-b19e-7ea615c0cf65",
   "metadata": {},
   "outputs": [],
   "source": [
    "with open(original_data_file, mode='r', newline='') as csv_file:\n",
    "    reader = csv.DictReader(csv_file)\n",
    "    with tf.io.TFRecordWriter(tfrecord_file_path) as writer:# writing the tfrecord file in desired path using  tf.io.TFRecordWriter\n",
    "        for row in reader:\n",
    "            # Check if the value is not empty before converting to float\n",
    "            total_bedrooms = float(row[\"total_bedrooms\"]) if row[\"total_bedrooms\"] else 0.0 # since we have missing values in this column\n",
    "            # Convert each row to TFRecord format\n",
    "            example = tf.train.Example(features=tf.train.Features(feature={\n",
    "                \"longitude\": _float_feature(float(row[\"longitude\"])),\n",
    "                \"latitude\": _float_feature(float(row[\"latitude\"])),\n",
    "                \"housing_median_age\": _float_feature(float(row[\"housing_median_age\"])),\n",
    "                \"total_rooms\": _float_feature(float(row[\"total_rooms\"])),\n",
    "                \"total_bedrooms\": _float_feature(float(row[\"total_bedrooms\"]) if row[\"total_bedrooms\"] else 0.0),  # Use the checked value\n",
    "                \"population\": _float_feature(float(row[\"population\"])),\n",
    "                \"households\": _float_feature(float(row[\"households\"])),\n",
    "                \"median_income\": _float_feature(float(row[\"median_income\"])),\n",
    "                \"median_house_value\": _float_feature(float(row[\"median_house_value\"])),\n",
    "                \"ocean_proximity\": _bytes_feature(row[\"ocean_proximity\"])\n",
    "            }))\n",
    "            # Write the serialized example to the TFRecord file\n",
    "            writer.write(example.SerializeToString())"
   ]
  },
  {
   "cell_type": "code",
   "execution_count": null,
   "id": "eb344877-8692-4a6f-9cd1-8466b0028514",
   "metadata": {},
   "outputs": [],
   "source": []
  },
  {
   "cell_type": "code",
   "execution_count": null,
   "id": "ae644f92-aeba-48c8-abf6-6fff1ff08671",
   "metadata": {},
   "outputs": [],
   "source": []
  },
  {
   "cell_type": "code",
   "execution_count": null,
   "id": "3cb7c376-d8c0-4aa6-a737-ecb87f8bba1a",
   "metadata": {},
   "outputs": [],
   "source": []
  }
 ],
 "metadata": {
  "kernelspec": {
   "display_name": "Python 3 (ipykernel)",
   "language": "python",
   "name": "python3"
  },
  "language_info": {
   "codemirror_mode": {
    "name": "ipython",
    "version": 3
   },
   "file_extension": ".py",
   "mimetype": "text/x-python",
   "name": "python",
   "nbconvert_exporter": "python",
   "pygments_lexer": "ipython3",
   "version": "3.9.18"
  }
 },
 "nbformat": 4,
 "nbformat_minor": 5
}
